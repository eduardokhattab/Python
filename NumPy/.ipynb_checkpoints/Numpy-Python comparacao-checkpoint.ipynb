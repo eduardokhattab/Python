{
 "cells": [
  {
   "cell_type": "code",
   "execution_count": 2,
   "metadata": {},
   "outputs": [],
   "source": [
    "#Arrays Numpy consome menos do que as listas do python\n",
    "#acessos para leitura e escrita tambem sao mais rapidos\n",
    "#INDICADO PARA COMPUTAÇÃO CIENTÍFICA"
   ]
  },
  {
   "cell_type": "code",
   "execution_count": 11,
   "metadata": {},
   "outputs": [],
   "source": [
    "import numpy as np\n",
    "\n",
    "a = np.array([[2,4], [6,8]])\n",
    "# se voce executar a linha de cima e fizer\n",
    "# a.<tab>, vai mostrar metodos do numpy"
   ]
  },
  {
   "cell_type": "code",
   "execution_count": 27,
   "metadata": {},
   "outputs": [
    {
     "name": "stdout",
     "output_type": "stream",
     "text": [
      "5.0\n",
      "[2 8]\n",
      "2\n",
      "2\n"
     ]
    }
   ],
   "source": [
    "print(a.mean()) #media\n",
    "print(a.diagonal()) #primeira diagonal\n",
    "print(a.ndim) #dimensao\n",
    "matriz_tres = np.array([[1,2,3],[4,5,'marcos'],[7,8,9]])\n",
    "print(matriz_tres.ndim) #ok, nao entendi tambem"
   ]
  }
 ],
 "metadata": {
  "kernelspec": {
   "display_name": "Python 3",
   "language": "python",
   "name": "python3"
  },
  "language_info": {
   "codemirror_mode": {
    "name": "ipython",
    "version": 3
   },
   "file_extension": ".py",
   "mimetype": "text/x-python",
   "name": "python",
   "nbconvert_exporter": "python",
   "pygments_lexer": "ipython3",
   "version": "3.6.1"
  }
 },
 "nbformat": 4,
 "nbformat_minor": 2
}
