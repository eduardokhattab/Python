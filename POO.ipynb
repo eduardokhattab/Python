{
 "cells": [
  {
   "cell_type": "code",
   "execution_count": 10,
   "metadata": {},
   "outputs": [
    {
     "name": "stdout",
     "output_type": "stream",
     "text": [
      "eduardo\n",
      "27\n",
      "eduardo\n"
     ]
    }
   ],
   "source": [
    "class Pessoa:\n",
    "    \n",
    "    def __init__(self, nome, idade): #construtor\n",
    "        self.nome = nome\n",
    "        self.idade = idade\n",
    "        \n",
    "    def imprimir_nome(self): #em python, métodos também são atributos\n",
    "        print(self.nome)\n",
    "\n",
    "p = Pessoa('eduardo', 27)\n",
    "print(p.nome)\n",
    "print(p.idade)\n",
    "p.imprimir_nome()"
   ]
  },
  {
   "cell_type": "code",
   "execution_count": 11,
   "metadata": {},
   "outputs": [
    {
     "name": "stdout",
     "output_type": "stream",
     "text": [
      "100\n",
      "1234\n"
     ]
    }
   ],
   "source": [
    "class Conta:\n",
    "    \n",
    "    def __init__(self, cliente, numero):\n",
    "        self.cliente = cliente\n",
    "        self.numero = numero\n",
    "    \n",
    "    \n",
    "class ContaEspecial(Conta):\n",
    "    \n",
    "    def __init__(self, cliente, numero, limite=0):\n",
    "        Conta.__init__(self,cliente,numero)\n",
    "        self.limite = limite\n",
    "        \n",
    "        \n",
    "conta = ContaEspecial('edu', '1234', 100)\n",
    "print(conta.limite)\n",
    "\n",
    "\n",
    "conta = Conta('marcos', '1234')\n",
    "print(conta.numero)"
   ]
  }
 ],
 "metadata": {
  "kernelspec": {
   "display_name": "Python 3",
   "language": "python",
   "name": "python3"
  },
  "language_info": {
   "codemirror_mode": {
    "name": "ipython",
    "version": 3
   },
   "file_extension": ".py",
   "mimetype": "text/x-python",
   "name": "python",
   "nbconvert_exporter": "python",
   "pygments_lexer": "ipython3",
   "version": "3.6.3"
  }
 },
 "nbformat": 4,
 "nbformat_minor": 2
}
